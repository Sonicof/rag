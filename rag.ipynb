{
 "cells": [
  {
   "cell_type": "code",
   "execution_count": 3,
   "metadata": {},
   "outputs": [
    {
     "name": "stderr",
     "output_type": "stream",
     "text": [
      "c:\\Users\\DSUCSCL7-31\\AppData\\Local\\Programs\\Python\\Python312\\Lib\\site-packages\\tqdm\\auto.py:21: TqdmWarning: IProgress not found. Please update jupyter and ipywidgets. See https://ipywidgets.readthedocs.io/en/stable/user_install.html\n",
      "  from .autonotebook import tqdm as notebook_tqdm\n"
     ]
    }
   ],
   "source": [
    "import json\n",
    "import numpy as np\n",
    "import faiss\n",
    "import torch\n",
    "from transformers import AutoTokenizer, AutoModel, AutoModelForSeq2SeqLM\n",
    "\n"
   ]
  },
  {
   "cell_type": "code",
   "execution_count": 4,
   "metadata": {},
   "outputs": [],
   "source": [
    "# Load the chunked JSON data with explicit encoding\n",
    "def load_data(file_path):\n",
    "    with open(file_path, 'r', encoding='utf-8') as file:\n",
    "        return json.load(file)"
   ]
  },
  {
   "cell_type": "code",
   "execution_count": 5,
   "metadata": {},
   "outputs": [],
   "source": [
    "def prepare_retrieval_index(data):\n",
    "    # Extract text chunks from the data\n",
    "    texts = []\n",
    "    for chunk in data:\n",
    "        if 'content' in chunk:\n",
    "            texts.append(chunk['content'])\n",
    "\n",
    "    # Create embeddings for the text chunks\n",
    "    tokenizer = AutoTokenizer.from_pretrained(\"sentence-transformers/all-MiniLM-L6-v2\")\n",
    "    model = AutoModel.from_pretrained(\"sentence-transformers/all-MiniLM-L6-v2\").to('cuda')\n",
    "\n",
    "    # Encode the texts\n",
    "    inputs = tokenizer(texts, padding=True, truncation=True, return_tensors=\"pt\").to('cuda')\n",
    "    with torch.no_grad():\n",
    "        embeddings = model(**inputs).last_hidden_state.mean(dim=1).cpu().numpy()\n",
    "\n",
    "    # Create a FAISS index\n",
    "    index = faiss.IndexFlatL2(embeddings.shape[1])  # L2 distance\n",
    "    index.add(embeddings)\n",
    "    return index, texts"
   ]
  },
  {
   "cell_type": "code",
   "execution_count": 6,
   "metadata": {},
   "outputs": [],
   "source": [
    "def retrieve_relevant_text(query, index, texts):\n",
    "    tokenizer = AutoTokenizer.from_pretrained(\"sentence-transformers/all-MiniLM-L6-v2\")\n",
    "    model = AutoModel.from_pretrained(\"sentence-transformers/all-MiniLM-L6-v2\").to('cuda')\n",
    "\n",
    "    # Encode the query\n",
    "    inputs = tokenizer(query, return_tensors=\"pt\").to('cuda')\n",
    "    with torch.no_grad():\n",
    "        query_embedding = model(**inputs).last_hidden_state.mean(dim=1).cpu().numpy()\n",
    "\n",
    "    # Perform the search\n",
    "    D, I = index.search(query_embedding, k=1)  # Retrieve top 1\n",
    "    return texts[I[0][0]]"
   ]
  },
  {
   "cell_type": "code",
   "execution_count": 7,
   "metadata": {},
   "outputs": [],
   "source": [
    "def generate_response(retrieved_text, query):\n",
    "    # Load a generative model\n",
    "    model = AutoModelForSeq2SeqLM.from_pretrained(\"facebook/bart-large\").to('cuda')\n",
    "    tokenizer = AutoTokenizer.from_pretrained(\"facebook/bart-large\")\n",
    "\n",
    "    # Prepare the input for the generative model\n",
    "    input_text = f\"Context: {retrieved_text}\\nUser  Query: {query}\\nResponse:\"\n",
    "    inputs = tokenizer(input_text, return_tensors=\"pt\", max_length=512, truncation=True).to('cuda')\n",
    "\n",
    "    # Generate the response\n",
    "    with torch.no_grad():\n",
    "        output = model.generate(**inputs)\n",
    "    return tokenizer.decode(output[0], skip_special_tokens=True)"
   ]
  },
  {
   "cell_type": "code",
   "execution_count": 8,
   "metadata": {},
   "outputs": [
    {
     "name": "stdout",
     "output_type": "stream",
     "text": [
      "who is arun kumar\n",
      "Type 'exit' to end the chat.\n"
     ]
    },
    {
     "ename": "",
     "evalue": "",
     "output_type": "error",
     "traceback": [
      "\u001b[1;31mThe Kernel crashed while executing code in the current cell or a previous cell. \n",
      "\u001b[1;31mPlease review the code in the cell(s) to identify a possible cause of the failure. \n",
      "\u001b[1;31mClick <a href='https://aka.ms/vscodeJupyterKernelCrash'>here</a> for more info. \n",
      "\u001b[1;31mView Jupyter <a href='command:jupyter.viewOutput'>log</a> for further details."
     ]
    }
   ],
   "source": [
    "def run_rag_pipeline():\n",
    "    # Load the JSON data\n",
    "    data = load_data('chunks/dr-arunkumar_chunks.json')\n",
    "\n",
    "    # Prepare the retrieval index\n",
    "    index, texts = prepare_retrieval_index(data)\n",
    "\n",
    "    print(\"who is arun kumar\")\n",
    "    print(\"Type 'exit' to end the chat.\")\n",
    "\n",
    "    while True:\n",
    "        user_input = input(\"You: \")\n",
    "        if user_input.lower() == 'exit':\n",
    "            print(\"Chatbot: Goodbye!\")\n",
    "            break\n",
    "        \n",
    "        # Retrieve relevant text\n",
    "        retrieved_text = retrieve_relevant_text(user_input, index, texts)\n",
    "        \n",
    "        # Generate a response\n",
    "        response = generate_response(retrieved_text, user_input)\n",
    "        print(f\"Chatbot: {response}\")\n",
    "\n",
    "# Run the RAG pipeline\n",
    "if __name__ == \"__main__\":\n",
    "    run_rag_pipeline()"
   ]
  },
  {
   "cell_type": "code",
   "execution_count": null,
   "metadata": {},
   "outputs": [],
   "source": []
  }
 ],
 "metadata": {
  "kernelspec": {
   "display_name": "Python 3",
   "language": "python",
   "name": "python3"
  },
  "language_info": {
   "codemirror_mode": {
    "name": "ipython",
    "version": 3
   },
   "file_extension": ".py",
   "mimetype": "text/x-python",
   "name": "python",
   "nbconvert_exporter": "python",
   "pygments_lexer": "ipython3",
   "version": "3.12.9"
  }
 },
 "nbformat": 4,
 "nbformat_minor": 2
}
